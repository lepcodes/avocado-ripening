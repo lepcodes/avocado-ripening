{
 "cells": [
  {
   "cell_type": "markdown",
   "id": "c484f42a",
   "metadata": {},
   "source": [
    "# Exploratory Data Analysis"
   ]
  },
  {
   "cell_type": "code",
   "execution_count": 4,
   "id": "15896d07",
   "metadata": {},
   "outputs": [],
   "source": [
    "import numpy as np\n",
    "import pandas as pd\n",
    "import matplotlib.pyplot as plt"
   ]
  },
  {
   "cell_type": "code",
   "execution_count": 6,
   "id": "781fe9a2",
   "metadata": {},
   "outputs": [],
   "source": [
    "data = pd.read_csv('C:/Users/Luis/Documents/ML-AI-Projects/avocado-ripening/data/processed/avocado_ripening_data.csv')"
   ]
  },
  {
   "cell_type": "code",
   "execution_count": 7,
   "id": "5bfec57b",
   "metadata": {},
   "outputs": [
    {
     "data": {
      "application/vnd.microsoft.datawrangler.viewer.v0+json": {
       "columns": [
        {
         "name": "index",
         "rawType": "int64",
         "type": "integer"
        },
        {
         "name": "File Name",
         "rawType": "object",
         "type": "string"
        },
        {
         "name": "Time Stamp",
         "rawType": "object",
         "type": "string"
        },
        {
         "name": "Sample",
         "rawType": "int64",
         "type": "integer"
        },
        {
         "name": "Day of Experiment",
         "rawType": "int64",
         "type": "integer"
        },
        {
         "name": "Ripening Index Classification",
         "rawType": "int64",
         "type": "integer"
        },
        {
         "name": "Overripening Day",
         "rawType": "float64",
         "type": "float"
        },
        {
         "name": "Overripening Time Stamp",
         "rawType": "object",
         "type": "string"
        },
        {
         "name": "Time Unitl Overripening",
         "rawType": "object",
         "type": "string"
        },
        {
         "name": "Shelf-life Days",
         "rawType": "float64",
         "type": "float"
        },
        {
         "name": "T10",
         "rawType": "int64",
         "type": "integer"
        },
        {
         "name": "T20",
         "rawType": "int64",
         "type": "integer"
        },
        {
         "name": "Tam",
         "rawType": "int64",
         "type": "integer"
        }
       ],
       "ref": "fd6227d5-51ac-4082-9597-01bb134212aa",
       "rows": [
        [
         "0",
         "T20_d01_001_a_1",
         "2022-04-04 18:56:55",
         "1",
         "1",
         "1",
         "9.0",
         "2022-04-12 14:44:53",
         "7 days 19:47:58",
         "7.824976851851852",
         "0",
         "1",
         "0"
        ],
        [
         "1",
         "T20_d01_001_b_1",
         "2022-04-04 18:57:03",
         "1",
         "1",
         "1",
         "9.0",
         "2022-04-12 14:44:53",
         "7 days 19:47:50",
         "7.824884259259259",
         "0",
         "1",
         "0"
        ],
        [
         "2",
         "T20_d02_001_a_1",
         "2022-04-05 14:16:21",
         "1",
         "2",
         "1",
         "9.0",
         "2022-04-12 14:44:53",
         "7 days 00:28:32",
         "7.019814814814815",
         "0",
         "1",
         "0"
        ],
        [
         "3",
         "T20_d02_001_b_1",
         "2022-04-05 14:16:46",
         "1",
         "2",
         "1",
         "9.0",
         "2022-04-12 14:44:53",
         "7 days 00:28:07",
         "7.019525462962963",
         "0",
         "1",
         "0"
        ],
        [
         "4",
         "T20_d03_001_a_2",
         "2022-04-06 15:08:50",
         "1",
         "3",
         "2",
         "9.0",
         "2022-04-12 14:44:53",
         "5 days 23:36:03",
         "5.983368055555555",
         "0",
         "1",
         "0"
        ]
       ],
       "shape": {
        "columns": 12,
        "rows": 5
       }
      },
      "text/html": [
       "<div>\n",
       "<style scoped>\n",
       "    .dataframe tbody tr th:only-of-type {\n",
       "        vertical-align: middle;\n",
       "    }\n",
       "\n",
       "    .dataframe tbody tr th {\n",
       "        vertical-align: top;\n",
       "    }\n",
       "\n",
       "    .dataframe thead th {\n",
       "        text-align: right;\n",
       "    }\n",
       "</style>\n",
       "<table border=\"1\" class=\"dataframe\">\n",
       "  <thead>\n",
       "    <tr style=\"text-align: right;\">\n",
       "      <th></th>\n",
       "      <th>File Name</th>\n",
       "      <th>Time Stamp</th>\n",
       "      <th>Sample</th>\n",
       "      <th>Day of Experiment</th>\n",
       "      <th>Ripening Index Classification</th>\n",
       "      <th>Overripening Day</th>\n",
       "      <th>Overripening Time Stamp</th>\n",
       "      <th>Time Unitl Overripening</th>\n",
       "      <th>Shelf-life Days</th>\n",
       "      <th>T10</th>\n",
       "      <th>T20</th>\n",
       "      <th>Tam</th>\n",
       "    </tr>\n",
       "  </thead>\n",
       "  <tbody>\n",
       "    <tr>\n",
       "      <th>0</th>\n",
       "      <td>T20_d01_001_a_1</td>\n",
       "      <td>2022-04-04 18:56:55</td>\n",
       "      <td>1</td>\n",
       "      <td>1</td>\n",
       "      <td>1</td>\n",
       "      <td>9.0</td>\n",
       "      <td>2022-04-12 14:44:53</td>\n",
       "      <td>7 days 19:47:58</td>\n",
       "      <td>7.824977</td>\n",
       "      <td>0</td>\n",
       "      <td>1</td>\n",
       "      <td>0</td>\n",
       "    </tr>\n",
       "    <tr>\n",
       "      <th>1</th>\n",
       "      <td>T20_d01_001_b_1</td>\n",
       "      <td>2022-04-04 18:57:03</td>\n",
       "      <td>1</td>\n",
       "      <td>1</td>\n",
       "      <td>1</td>\n",
       "      <td>9.0</td>\n",
       "      <td>2022-04-12 14:44:53</td>\n",
       "      <td>7 days 19:47:50</td>\n",
       "      <td>7.824884</td>\n",
       "      <td>0</td>\n",
       "      <td>1</td>\n",
       "      <td>0</td>\n",
       "    </tr>\n",
       "    <tr>\n",
       "      <th>2</th>\n",
       "      <td>T20_d02_001_a_1</td>\n",
       "      <td>2022-04-05 14:16:21</td>\n",
       "      <td>1</td>\n",
       "      <td>2</td>\n",
       "      <td>1</td>\n",
       "      <td>9.0</td>\n",
       "      <td>2022-04-12 14:44:53</td>\n",
       "      <td>7 days 00:28:32</td>\n",
       "      <td>7.019815</td>\n",
       "      <td>0</td>\n",
       "      <td>1</td>\n",
       "      <td>0</td>\n",
       "    </tr>\n",
       "    <tr>\n",
       "      <th>3</th>\n",
       "      <td>T20_d02_001_b_1</td>\n",
       "      <td>2022-04-05 14:16:46</td>\n",
       "      <td>1</td>\n",
       "      <td>2</td>\n",
       "      <td>1</td>\n",
       "      <td>9.0</td>\n",
       "      <td>2022-04-12 14:44:53</td>\n",
       "      <td>7 days 00:28:07</td>\n",
       "      <td>7.019525</td>\n",
       "      <td>0</td>\n",
       "      <td>1</td>\n",
       "      <td>0</td>\n",
       "    </tr>\n",
       "    <tr>\n",
       "      <th>4</th>\n",
       "      <td>T20_d03_001_a_2</td>\n",
       "      <td>2022-04-06 15:08:50</td>\n",
       "      <td>1</td>\n",
       "      <td>3</td>\n",
       "      <td>2</td>\n",
       "      <td>9.0</td>\n",
       "      <td>2022-04-12 14:44:53</td>\n",
       "      <td>5 days 23:36:03</td>\n",
       "      <td>5.983368</td>\n",
       "      <td>0</td>\n",
       "      <td>1</td>\n",
       "      <td>0</td>\n",
       "    </tr>\n",
       "  </tbody>\n",
       "</table>\n",
       "</div>"
      ],
      "text/plain": [
       "         File Name           Time Stamp  Sample  Day of Experiment  \\\n",
       "0  T20_d01_001_a_1  2022-04-04 18:56:55       1                  1   \n",
       "1  T20_d01_001_b_1  2022-04-04 18:57:03       1                  1   \n",
       "2  T20_d02_001_a_1  2022-04-05 14:16:21       1                  2   \n",
       "3  T20_d02_001_b_1  2022-04-05 14:16:46       1                  2   \n",
       "4  T20_d03_001_a_2  2022-04-06 15:08:50       1                  3   \n",
       "\n",
       "   Ripening Index Classification  Overripening Day Overripening Time Stamp  \\\n",
       "0                              1               9.0     2022-04-12 14:44:53   \n",
       "1                              1               9.0     2022-04-12 14:44:53   \n",
       "2                              1               9.0     2022-04-12 14:44:53   \n",
       "3                              1               9.0     2022-04-12 14:44:53   \n",
       "4                              2               9.0     2022-04-12 14:44:53   \n",
       "\n",
       "  Time Unitl Overripening  Shelf-life Days  T10  T20  Tam  \n",
       "0         7 days 19:47:58         7.824977    0    1    0  \n",
       "1         7 days 19:47:50         7.824884    0    1    0  \n",
       "2         7 days 00:28:32         7.019815    0    1    0  \n",
       "3         7 days 00:28:07         7.019525    0    1    0  \n",
       "4         5 days 23:36:03         5.983368    0    1    0  "
      ]
     },
     "execution_count": 7,
     "metadata": {},
     "output_type": "execute_result"
    }
   ],
   "source": [
    "data.head()"
   ]
  },
  {
   "cell_type": "code",
   "execution_count": null,
   "id": "ce71fbf5",
   "metadata": {},
   "outputs": [],
   "source": []
  }
 ],
 "metadata": {
  "kernelspec": {
   "display_name": "avocado-ripening",
   "language": "python",
   "name": "python3"
  },
  "language_info": {
   "codemirror_mode": {
    "name": "ipython",
    "version": 3
   },
   "file_extension": ".py",
   "mimetype": "text/x-python",
   "name": "python",
   "nbconvert_exporter": "python",
   "pygments_lexer": "ipython3",
   "version": "3.13.5"
  }
 },
 "nbformat": 4,
 "nbformat_minor": 5
}
